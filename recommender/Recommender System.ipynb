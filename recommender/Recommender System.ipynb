{
 "cells": [
  {
   "cell_type": "markdown",
   "metadata": {},
   "source": [
    "## Рекомендательная система\n",
    "Ядро рекомендательной системы реализовано с помощью библиотеки GraphLab Create: https://dato.com/products/create/"
   ]
  },
  {
   "cell_type": "markdown",
   "metadata": {},
   "source": [
    "Для настройки параметров рекомендательной системы используется конфигурационный файл `properties.py`. В данном файле можно задать такие параметры, как формат обучающего множества, его местоположение, настройки базы данных."
   ]
  },
  {
   "cell_type": "code",
   "execution_count": 15,
   "metadata": {
    "collapsed": true
   },
   "outputs": [],
   "source": [
    "python_bin = \"/home/darkraven/Prog/anaconda2/envs/dato-env/bin/python\"\n",
    "recommender_dir = \"recommender/\"\n",
    "train_data_directory = \"train_data/ml-20m/\"\n",
    "ratings_filename = train_data_directory + \"ratings.data\"\n",
    "ratings_subset_filename = train_data_directory + \"ratings_subset.data\"\n",
    "items_info_filename = train_data_directory + \"movies.data\"\n",
    "user_id_header = \"user_id\"\n",
    "item_id_header = \"item_id\"\n",
    "item_title_header = \"title\"\n",
    "target_header = \"rating\"\n",
    "delimeter_in_string = \"|\"\n",
    "min_rating = 0.5\n",
    "max_rating = 5.0\n",
    "db_host = \"127.0.0.1\"\n",
    "db_user = \"user\"\n",
    "db_passwd = \"password\"\n",
    "db_name = \"recommender\"\n",
    "db_table_name = \"movies\"\n",
    "db_table_header_title = \"title\"\n",
    "db_table_header_genre = \"genre\"\n",
    "db_charset = \"utf8\"\n"
   ]
  },
  {
   "cell_type": "markdown",
   "metadata": {},
   "source": [
    "Основной класс для работы с рекомендациями - `Recommender`. Содержит публичные методы `train()`, `recommend()`. При создании класса пользователь может указать, требуется ли обучать модель или использовать существующую. "
   ]
  },
  {
   "cell_type": "code",
   "execution_count": 16,
   "metadata": {
    "collapsed": true
   },
   "outputs": [],
   "source": [
    "# -*- coding: utf-8 -*-\n",
    "\n",
    "import os\n",
    "import sys\n",
    "\n",
    "import MySQLdb\n",
    "import graphlab\n",
    "\n",
    "class Recommender:\n",
    "    def __init__(self, update_caches=False):\n",
    "        self.item_data = None\n",
    "        cached_model_directory = \"cached_model_\" + properties.train_data_directory.replace(\"/\", \"_\")\n",
    "        if (os.path.exists(cached_model_directory)) and (not update_caches):\n",
    "            self.model = graphlab.load_model(cached_model_directory)\n",
    "        else:\n",
    "            self.train(properties.ratings_filename, properties.items_info_filename, update_caches)\n",
    "            self.model.save(cached_model_directory)\n",
    "            self.create_database()"
   ]
  },
  {
   "cell_type": "markdown",
   "metadata": {},
   "source": [
    "Метод `train()` получает на вход файл с оценками к фильмам и файл с дополнительной информацией о фильмах. Также с помощью параметра `update_caches` можно обновить кеш. Модель обучается на полученных данных, при построении модели используем алгоритм, основанный на факторизации матриц. "
   ]
  },
  {
   "cell_type": "code",
   "execution_count": 17,
   "metadata": {
    "collapsed": true
   },
   "outputs": [],
   "source": [
    "    def train(self, ratings_filename, items_info_filename, update_caches=False):\n",
    "        observation_data = Recommender.__load_data(ratings_filename, update_caches)\n",
    "        self.item_data = Recommender.__load_data(items_info_filename, update_caches)\n",
    "        self.model = graphlab.recommender.factorization_recommender.create(observation_data,\n",
    "                                                                           user_id=properties.user_id_header,\n",
    "                                                                           item_id=properties.item_id_header,\n",
    "                                                                           target=properties.target_header,\n",
    "                                                                           item_data=self.item_data,\n",
    "                                                                           verbose=True,\n",
    "                                                                           max_iterations=10,\n",
    "                                                                           solver='sgd')"
   ]
  },
  {
   "cell_type": "markdown",
   "metadata": {},
   "source": [
    "Метод `recommend()` получает на вход оценки текущего пользователя и количество желаемых рекомендаций. Далее модель предлагает пользователю наиболее актуальные фильмы. Заметим, что наша модель страдает от так называемой проблемы \"холодного старта\", т.е. для новых пользователей зачастую рекомендуются наиболее популярные фильмы. Для решения данной проблемы мы будем искать пользователя из обучающего множества, который похож на текущего пользователя.  Предсказанный рейтинг нормализуется с помощью функции `normalize_score()`"
   ]
  },
  {
   "cell_type": "code",
   "execution_count": 18,
   "metadata": {
    "collapsed": true
   },
   "outputs": [],
   "source": [
    "    def recommend(self, user_ratings=None, k=10):\n",
    "        if not user_ratings:\n",
    "            user_ratings = {}\n",
    "        rated_items = set(user_ratings.keys())\n",
    "        user_id = [int(Recommender.__get_nearest_neighbor(rated_items))]\n",
    "        user_ids = user_id * len(user_ratings)\n",
    "        new_observation_data = graphlab.SFrame({properties.user_id_header: user_ids,\n",
    "                                                properties.item_id_header: user_ratings.keys(),\n",
    "                                                properties.target_header: user_ratings.values()})\n",
    "        recommendations = list(self.model.recommend(user_id, k=k, new_observation_data=new_observation_data,\n",
    "                                                    verbose=True))\n",
    "        for recommendation in recommendations:\n",
    "            item_id = str(recommendation.get(properties.item_id_header))\n",
    "            if item_id not in rated_items:\n",
    "                print item_id + \",\" + str(Recommender.__normalize_score(recommendation.get(\"score\")))\n",
    "                \n",
    "    @staticmethod\n",
    "    def __normalize_score(score):\n",
    "        return round(min(max(score, properties.min_rating), properties.max_rating), 2)                \n",
    "                "
   ]
  },
  {
   "cell_type": "markdown",
   "metadata": {},
   "source": [
    "Поиск похожего пользователя происходит следующим образом: из обучающего множества выбираются случайные пользователи и их оценки к фильмам. Если два пользователя оценили одинаковые фильмы, то они похожи друг на друга. Чем больше пересечение по фильмам, тем больше сходство. Ниже представлен алгоритм поиска похожего пользователя."
   ]
  },
  {
   "cell_type": "code",
   "execution_count": 19,
   "metadata": {
    "collapsed": false
   },
   "outputs": [],
   "source": [
    "    @staticmethod\n",
    "    def __get_nearest_neighbor(user_ratings):\n",
    "        ratings_subset_file = open(properties.ratings_subset_filename, \"r\")\n",
    "        neighbor_id = -1\n",
    "        neighbor_intersection = 0\n",
    "        for user in ratings_subset_file:\n",
    "            cur_user_ratings = user.split(\" \")\n",
    "            cur_user_id = cur_user_ratings[0]\n",
    "            cur_user_ratings.pop(0)\n",
    "            cur_user_ratings.remove('\\n')\n",
    "            intersection = len(user_ratings.intersection(set(cur_user_ratings)))\n",
    "            if intersection > neighbor_intersection:\n",
    "                neighbor_intersection = intersection\n",
    "                neighbor_id = cur_user_id\n",
    "        # print \"uid: \" + str(neighbor_id)\n",
    "        # print \"count: \" + str(neighbor_intersection)\n",
    "        return neighbor_id"
   ]
  },
  {
   "cell_type": "markdown",
   "metadata": {},
   "source": [
    "Для кэширования обучающих данных используется метод `load_data`"
   ]
  },
  {
   "cell_type": "code",
   "execution_count": 20,
   "metadata": {
    "collapsed": true
   },
   "outputs": [],
   "source": [
    "    @staticmethod\n",
    "    def __load_data(data_path, update_caches=False):\n",
    "        cached_data_path = data_path + \".cached\"\n",
    "        if (os.path.exists(cached_data_path)) and (not update_caches):\n",
    "            data = graphlab.SFrame(cached_data_path)\n",
    "        else:\n",
    "            data = graphlab.SFrame.read_csv(data_path, delimiter=properties.delimeter_in_string)\n",
    "            data.save(cached_data_path)\n",
    "        return data"
   ]
  },
  {
   "cell_type": "markdown",
   "metadata": {},
   "source": [
    "Кроме того, имеется метод для записи информации о фильмах в базу данных. В базе хранится информация об `id` фильма, его названии и жанрах."
   ]
  },
  {
   "cell_type": "code",
   "execution_count": 21,
   "metadata": {
    "collapsed": false
   },
   "outputs": [],
   "source": [
    "    def __create_database(self):\n",
    "        db = MySQLdb.connect(host=properties.db_host,\n",
    "                             user=properties.db_user,\n",
    "                             passwd=properties.db_passwd)\n",
    "        cursor = db.cursor()\n",
    "        cursor.execute(\"CREATE DATABASE IF NOT EXISTS \" + properties.db_name +\n",
    "                       \" CHARACTER SET \" + properties.db_charset)\n",
    "        cursor.execute(\"USE \" + properties.db_name)\n",
    "        cursor.execute(\"DROP TABLE IF EXISTS \" + properties.db_table_name)\n",
    "        cursor.execute(\n",
    "            \"CREATE TABLE \" + properties.db_table_name + \" (\" + properties.item_id_header +\n",
    "            \" INT PRIMARY KEY NOT NULL, \" +\n",
    "            properties.db_table_header_title + \" VARCHAR(100), \" +\n",
    "            properties.db_table_header_genre + \" VARCHAR(200))\")\n",
    "\n",
    "        insert_sql = \"INSERT INTO \" + properties.db_table_name + \"(\" + properties.item_id_header \\\n",
    "                     + \", \" + properties.db_table_header_title + \", \" + properties.db_table_header_genre \\\n",
    "                     + \") VALUES(%s, %s, %s)\"\n",
    "\n",
    "        self.item_data = Recommender.__load_data(properties.items_info_filename)\n",
    "        for item in list(self.item_data):\n",
    "            item_id = item.get(properties.item_id_header)\n",
    "            item_title = item.get(properties.item_title_header)\n",
    "            item.pop(properties.item_id_header)\n",
    "            item.pop(properties.item_title_header)\n",
    "            filtered_dict = {k: v for (k, v) in item.iteritems() if v}\n",
    "            genres = (reduce(lambda x, key: x + \", \" + key, sorted(filtered_dict), \"\")).partition(\" \")[2]\n",
    "            cursor.execute(insert_sql, (item_id, item_title, genres))\n",
    "\n",
    "        db.commit()"
   ]
  },
  {
   "cell_type": "markdown",
   "metadata": {},
   "source": [
    "Для получения рекомендаций необходимо подать на вход программе оценки к фильмам с помощью аргументов командной строки. Формат: `\"item_id1,item_id2,item_id3\" \"rating1,rating2,rating3\"`"
   ]
  },
  {
   "cell_type": "code",
   "execution_count": 24,
   "metadata": {
    "collapsed": false
   },
   "outputs": [
    {
     "ename": "ValueError",
     "evalue": "invalid literal for int() with base 10: '/run/user/1000/jupyter/kernel-858ae29a-5c5a-481b-84a2-3eb96bdd93b1.json'",
     "output_type": "error",
     "traceback": [
      "\u001b[1;31m---------------------------------------------------------------------------\u001b[0m",
      "\u001b[1;31mValueError\u001b[0m                                Traceback (most recent call last)",
      "\u001b[1;32m<ipython-input-24-b2fc015ab60f>\u001b[0m in \u001b[0;36m<module>\u001b[1;34m()\u001b[0m\n\u001b[0;32m      1\u001b[0m \u001b[1;32mif\u001b[0m \u001b[0m__name__\u001b[0m \u001b[1;33m==\u001b[0m \u001b[1;34m'__main__'\u001b[0m\u001b[1;33m:\u001b[0m\u001b[1;33m\u001b[0m\u001b[0m\n\u001b[0;32m      2\u001b[0m     \u001b[0mfilm_ids\u001b[0m \u001b[1;33m=\u001b[0m \u001b[0msys\u001b[0m\u001b[1;33m.\u001b[0m\u001b[0margv\u001b[0m\u001b[1;33m[\u001b[0m\u001b[1;36m1\u001b[0m\u001b[1;33m]\u001b[0m\u001b[1;33m.\u001b[0m\u001b[0msplit\u001b[0m\u001b[1;33m(\u001b[0m\u001b[1;34m\",\"\u001b[0m\u001b[1;33m)\u001b[0m\u001b[1;33m\u001b[0m\u001b[0m\n\u001b[1;32m----> 3\u001b[1;33m     \u001b[0mratings\u001b[0m \u001b[1;33m=\u001b[0m \u001b[0mmap\u001b[0m\u001b[1;33m(\u001b[0m\u001b[0mint\u001b[0m\u001b[1;33m,\u001b[0m \u001b[0msys\u001b[0m\u001b[1;33m.\u001b[0m\u001b[0margv\u001b[0m\u001b[1;33m[\u001b[0m\u001b[1;36m2\u001b[0m\u001b[1;33m]\u001b[0m\u001b[1;33m.\u001b[0m\u001b[0msplit\u001b[0m\u001b[1;33m(\u001b[0m\u001b[1;34m\",\"\u001b[0m\u001b[1;33m)\u001b[0m\u001b[1;33m)\u001b[0m\u001b[1;33m\u001b[0m\u001b[0m\n\u001b[0m\u001b[0;32m      4\u001b[0m     \u001b[0mdict_ratings\u001b[0m \u001b[1;33m=\u001b[0m \u001b[0mdict\u001b[0m\u001b[1;33m(\u001b[0m\u001b[0mzip\u001b[0m\u001b[1;33m(\u001b[0m\u001b[0mfilm_ids\u001b[0m\u001b[1;33m,\u001b[0m \u001b[0mratings\u001b[0m\u001b[1;33m)\u001b[0m\u001b[1;33m)\u001b[0m\u001b[1;33m\u001b[0m\u001b[0m\n\u001b[0;32m      5\u001b[0m     \u001b[0mdict_ratings\u001b[0m\u001b[1;33m.\u001b[0m\u001b[0mpop\u001b[0m\u001b[1;33m(\u001b[0m\u001b[1;34m''\u001b[0m\u001b[1;33m,\u001b[0m \u001b[0mNone\u001b[0m\u001b[1;33m)\u001b[0m\u001b[1;33m\u001b[0m\u001b[0m\n",
      "\u001b[1;31mValueError\u001b[0m: invalid literal for int() with base 10: '/run/user/1000/jupyter/kernel-858ae29a-5c5a-481b-84a2-3eb96bdd93b1.json'"
     ]
    }
   ],
   "source": [
    "if __name__ == '__main__':\n",
    "    film_ids = sys.argv[1].split(\",\")\n",
    "    ratings = map(int, sys.argv[2].split(\",\"))\n",
    "    dict_ratings = dict(zip(film_ids, ratings))\n",
    "    dict_ratings.pop('', None)\n",
    "    recommender = Recommender(update_caches=False)\n",
    "    recommender.recommend(user_ratings=dict_ratings, k=20)"
   ]
  }
 ],
 "metadata": {
  "kernelspec": {
   "display_name": "Python 2",
   "language": "python",
   "name": "python2"
  },
  "language_info": {
   "codemirror_mode": {
    "name": "ipython",
    "version": 2
   },
   "file_extension": ".py",
   "mimetype": "text/x-python",
   "name": "python",
   "nbconvert_exporter": "python",
   "pygments_lexer": "ipython2",
   "version": "2.7.10"
  }
 },
 "nbformat": 4,
 "nbformat_minor": 0
}
